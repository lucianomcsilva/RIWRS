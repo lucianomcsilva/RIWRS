{
  "nbformat": 4,
  "nbformat_minor": 5,
  "metadata": {
    "colab": {
      "name": "Trilha 6 - Análise de Sentimentos - Naive Bayes",
      "provenance": [],
      "collapsed_sections": [
        "PkJDxkeJtkqp",
        "GAbQXJsqHo5v",
        "MHHaMIwzHqxL"
      ],
      "include_colab_link": true
    },
    "interpreter": {
      "hash": "54999d387da01ac009adc1c3ff01d1799bb96e6f581187d9006fa4c4da7ed267"
    },
    "kernelspec": {
      "display_name": "Python 3.9.6 64-bit",
      "name": "python3"
    },
    "language_info": {
      "codemirror_mode": {
        "name": "ipython",
        "version": 3
      },
      "file_extension": ".py",
      "mimetype": "text/x-python",
      "name": "python",
      "nbconvert_exporter": "python",
      "pygments_lexer": "ipython3",
      "version": "3.9.6"
    }
  },
  "cells": [
    {
      "cell_type": "markdown",
      "metadata": {
        "id": "view-in-github",
        "colab_type": "text"
      },
      "source": [
        "<a href=\"https://colab.research.google.com/github/lucianomcsilva/RIWRS/blob/main/%5BRIWRS%5D_6_An%C3%A1lise_de_Sentimentos_Naive_Bayes.ipynb\" target=\"_parent\"><img src=\"https://colab.research.google.com/assets/colab-badge.svg\" alt=\"Open In Colab\"/></a>"
      ]
    },
    {
      "cell_type": "markdown",
      "metadata": {
        "id": "WQ2sbLzPFtR6"
      },
      "source": [
        "# Carregar as bibliotecas e dados"
      ],
      "id": "WQ2sbLzPFtR6"
    },
    {
      "cell_type": "markdown",
      "metadata": {
        "id": "jy3kwQPwFtSC"
      },
      "source": [
        "## Bibliotecas"
      ],
      "id": "jy3kwQPwFtSC"
    },
    {
      "cell_type": "markdown",
      "metadata": {
        "id": "PkJDxkeJtkqp"
      },
      "source": [
        "### Instalações via PIP"
      ],
      "id": "PkJDxkeJtkqp"
    },
    {
      "cell_type": "code",
      "metadata": {
        "id": "OaTt7lUTF8-n"
      },
      "source": [
        "!pip install unidecode\n",
        "!pip install fractions\n",
        "!pip install googletrans\n",
        "!pip install ibm_watson\n",
        "!pip install ibm_cloud_sdk_core\n",
        "!pip install dotenv\n"
      ],
      "id": "OaTt7lUTF8-n",
      "execution_count": null,
      "outputs": []
    },
    {
      "cell_type": "markdown",
      "metadata": {
        "id": "UYoTRcF4tp39"
      },
      "source": [
        "### Importações"
      ],
      "id": "UYoTRcF4tp39"
    },
    {
      "cell_type": "code",
      "metadata": {
        "colab": {
          "base_uri": "https://localhost:8080/"
        },
        "id": "2e8c01dc",
        "outputId": "dc909de1-0de1-4ed2-9c5e-7658e6e9c7ca"
      },
      "source": [
        "# Load EDA Pkgs\n",
        "import pandas as pd\n",
        "import numpy as np\n",
        "import random\n",
        "\n",
        "# Load ML Pkgs\n",
        "from sklearn.naive_bayes import MultinomialNB, BernoulliNB\n",
        "from sklearn.linear_model import LogisticRegression\n",
        "from sklearn.feature_extraction.text import CountVectorizer\n",
        "from sklearn.model_selection import train_test_split\n",
        "from sklearn.metrics import accuracy_score\n",
        "import nltk\n",
        "from nltk.corpus import stopwords\n",
        "from nltk.tokenize import word_tokenize\n",
        "nltk.download('stopwords')\n",
        "nltk.download('rslp')\n",
        "from textblob import TextBlob\n",
        "\n",
        "#charts & others stuff\n",
        "from unidecode import unidecode\n",
        "import matplotlib.pyplot as plt\n",
        "import re\n",
        "import string\n",
        "from fractions import Fraction\n",
        "import json\n",
        "import os\n",
        "from googletrans import Translator\n",
        "translator = Translator()\n",
        "\n",
        "\n",
        "# from dotenv import load_dotenv\n",
        "# load_dotenv()\n",
        "# load_dotenv('../ibm-credentials.env')\n",
        "\n",
        "# IBM Watson\n",
        "from ibm_watson import NaturalLanguageUnderstandingV1\n",
        "from ibm_watson import LanguageTranslatorV3\n",
        "from ibm_cloud_sdk_core.authenticators import IAMAuthenticator\n",
        "from ibm_watson.natural_language_understanding_v1  import Features, CategoriesOptions, SentimentOptions\n",
        "\n",
        "\n",
        "\n",
        "# NATURAL_LANGUAGE_UNDERSTANDING_APIKEY = os.environ['NATURAL_LANGUAGE_UNDERSTANDING_APIKEY']\n",
        "# NATURAL_LANGUAGE_UNDERSTANDING_URL    = os.environ['NATURAL_LANGUAGE_UNDERSTANDING_URL']\n",
        "\n",
        "# LANGUAGE_TRANSLATOR_APIKEY = os.environ['LANGUAGE_TRANSLATOR_APIKEY']\n",
        "# LANGUAGE_TRANSLATOR_URL    = os.environ['LANGUAGE_TRANSLATOR_URL']"
      ],
      "id": "2e8c01dc",
      "execution_count": 2,
      "outputs": [
        {
          "output_type": "stream",
          "name": "stderr",
          "text": [
            "[nltk_data] Downloading package stopwords to /root/nltk_data...\n",
            "[nltk_data]   Unzipping corpora/stopwords.zip.\n",
            "[nltk_data] Downloading package rslp to /root/nltk_data...\n",
            "[nltk_data]   Unzipping stemmers/rslp.zip.\n"
          ]
        }
      ]
    },
    {
      "cell_type": "markdown",
      "metadata": {
        "id": "-zpFtedfFtSd"
      },
      "source": [
        "## Carrega o Arquivo"
      ],
      "id": "-zpFtedfFtSd"
    },
    {
      "cell_type": "code",
      "metadata": {
        "id": "5mNo6sdYFtSe",
        "outputId": "3a66465b-2032-494b-9ef2-48c399ef2fa7",
        "colab": {
          "base_uri": "https://localhost:8080/",
          "height": 400
        }
      },
      "source": [
        "def RoundSentiment(x):\n",
        "  if x > 0.5:\n",
        "    return 1\n",
        "  elif x < -0.5:\n",
        "    return -1\n",
        "  return 0\n",
        "\n",
        "\n",
        "df_o = pd.read_csv(f\"https://raw.githubusercontent.com/lucianomcsilva/RIWRS/main/tweets_com_ibm_watson_e_ingles.csv\")\n",
        "df_o.drop(df_o.columns[df_o.columns.str.contains('unnamed',case = False)],axis = 1, inplace = True)\n",
        "#df[['id_str', 'text', 'screen_name', 'search_term', 'search_term_group', 'source', 'ibm_watson_sentiment', 'ibm_watson_sentiment_label']].sample(10)\n",
        "df = df_o[['id_str', 'text', 'screen_name', 'search_term', 'search_term_group', 'source', 'ibm_watson_sentiment']].loc[df_o['search_term_group'].ne('star+')]\n",
        "df['sentiment'] = df['ibm_watson_sentiment'].apply(lambda x: RoundSentiment(x))"
      ],
      "id": "5mNo6sdYFtSe",
      "execution_count": 3,
      "outputs": [
        {
          "output_type": "error",
          "ename": "KeyError",
          "evalue": "\"None of [Index(['id_str', 'text', 'screen_name', 'search_term', 'search_term_group',\\n       'source', 'ibm_watson_sentiment'],\\n      dtype='object')] are in the [columns]\"",
          "traceback": [
            "\u001b[0;31m---------------------------------------------------------------------------\u001b[0m",
            "\u001b[0;31mKeyError\u001b[0m                                  Traceback (most recent call last)",
            "\u001b[0;32m<ipython-input-3-bfc0f1d214b3>\u001b[0m in \u001b[0;36m<cell line: 12>\u001b[0;34m()\u001b[0m\n\u001b[1;32m     10\u001b[0m \u001b[0mdf_o\u001b[0m\u001b[0;34m.\u001b[0m\u001b[0mdrop\u001b[0m\u001b[0;34m(\u001b[0m\u001b[0mdf_o\u001b[0m\u001b[0;34m.\u001b[0m\u001b[0mcolumns\u001b[0m\u001b[0;34m[\u001b[0m\u001b[0mdf_o\u001b[0m\u001b[0;34m.\u001b[0m\u001b[0mcolumns\u001b[0m\u001b[0;34m.\u001b[0m\u001b[0mstr\u001b[0m\u001b[0;34m.\u001b[0m\u001b[0mcontains\u001b[0m\u001b[0;34m(\u001b[0m\u001b[0;34m'unnamed'\u001b[0m\u001b[0;34m,\u001b[0m\u001b[0mcase\u001b[0m \u001b[0;34m=\u001b[0m \u001b[0;32mFalse\u001b[0m\u001b[0;34m)\u001b[0m\u001b[0;34m]\u001b[0m\u001b[0;34m,\u001b[0m\u001b[0maxis\u001b[0m \u001b[0;34m=\u001b[0m \u001b[0;36m1\u001b[0m\u001b[0;34m,\u001b[0m \u001b[0minplace\u001b[0m \u001b[0;34m=\u001b[0m \u001b[0;32mTrue\u001b[0m\u001b[0;34m)\u001b[0m\u001b[0;34m\u001b[0m\u001b[0;34m\u001b[0m\u001b[0m\n\u001b[1;32m     11\u001b[0m \u001b[0;31m#df[['id_str', 'text', 'screen_name', 'search_term', 'search_term_group', 'source', 'ibm_watson_sentiment', 'ibm_watson_sentiment_label']].sample(10)\u001b[0m\u001b[0;34m\u001b[0m\u001b[0;34m\u001b[0m\u001b[0m\n\u001b[0;32m---> 12\u001b[0;31m \u001b[0mdf\u001b[0m \u001b[0;34m=\u001b[0m \u001b[0mdf_o\u001b[0m\u001b[0;34m[\u001b[0m\u001b[0;34m[\u001b[0m\u001b[0;34m'id_str'\u001b[0m\u001b[0;34m,\u001b[0m \u001b[0;34m'text'\u001b[0m\u001b[0;34m,\u001b[0m \u001b[0;34m'screen_name'\u001b[0m\u001b[0;34m,\u001b[0m \u001b[0;34m'search_term'\u001b[0m\u001b[0;34m,\u001b[0m \u001b[0;34m'search_term_group'\u001b[0m\u001b[0;34m,\u001b[0m \u001b[0;34m'source'\u001b[0m\u001b[0;34m,\u001b[0m \u001b[0;34m'ibm_watson_sentiment'\u001b[0m\u001b[0;34m]\u001b[0m\u001b[0;34m]\u001b[0m\u001b[0;34m.\u001b[0m\u001b[0mloc\u001b[0m\u001b[0;34m[\u001b[0m\u001b[0mdf_o\u001b[0m\u001b[0;34m[\u001b[0m\u001b[0;34m'search_term_group'\u001b[0m\u001b[0;34m]\u001b[0m\u001b[0;34m.\u001b[0m\u001b[0mne\u001b[0m\u001b[0;34m(\u001b[0m\u001b[0;34m'star+'\u001b[0m\u001b[0;34m)\u001b[0m\u001b[0;34m]\u001b[0m\u001b[0;34m\u001b[0m\u001b[0;34m\u001b[0m\u001b[0m\n\u001b[0m\u001b[1;32m     13\u001b[0m \u001b[0mdf\u001b[0m\u001b[0;34m[\u001b[0m\u001b[0;34m'sentiment'\u001b[0m\u001b[0;34m]\u001b[0m \u001b[0;34m=\u001b[0m \u001b[0mdf\u001b[0m\u001b[0;34m[\u001b[0m\u001b[0;34m'ibm_watson_sentiment'\u001b[0m\u001b[0;34m]\u001b[0m\u001b[0;34m.\u001b[0m\u001b[0mapply\u001b[0m\u001b[0;34m(\u001b[0m\u001b[0;32mlambda\u001b[0m \u001b[0mx\u001b[0m\u001b[0;34m:\u001b[0m \u001b[0mRoundSentiment\u001b[0m\u001b[0;34m(\u001b[0m\u001b[0mx\u001b[0m\u001b[0;34m)\u001b[0m\u001b[0;34m)\u001b[0m\u001b[0;34m\u001b[0m\u001b[0;34m\u001b[0m\u001b[0m\n",
            "\u001b[0;32m/usr/local/lib/python3.10/dist-packages/pandas/core/frame.py\u001b[0m in \u001b[0;36m__getitem__\u001b[0;34m(self, key)\u001b[0m\n\u001b[1;32m   3811\u001b[0m             \u001b[0;32mif\u001b[0m \u001b[0mis_iterator\u001b[0m\u001b[0;34m(\u001b[0m\u001b[0mkey\u001b[0m\u001b[0;34m)\u001b[0m\u001b[0;34m:\u001b[0m\u001b[0;34m\u001b[0m\u001b[0;34m\u001b[0m\u001b[0m\n\u001b[1;32m   3812\u001b[0m                 \u001b[0mkey\u001b[0m \u001b[0;34m=\u001b[0m \u001b[0mlist\u001b[0m\u001b[0;34m(\u001b[0m\u001b[0mkey\u001b[0m\u001b[0;34m)\u001b[0m\u001b[0;34m\u001b[0m\u001b[0;34m\u001b[0m\u001b[0m\n\u001b[0;32m-> 3813\u001b[0;31m             \u001b[0mindexer\u001b[0m \u001b[0;34m=\u001b[0m \u001b[0mself\u001b[0m\u001b[0;34m.\u001b[0m\u001b[0mcolumns\u001b[0m\u001b[0;34m.\u001b[0m\u001b[0m_get_indexer_strict\u001b[0m\u001b[0;34m(\u001b[0m\u001b[0mkey\u001b[0m\u001b[0;34m,\u001b[0m \u001b[0;34m\"columns\"\u001b[0m\u001b[0;34m)\u001b[0m\u001b[0;34m[\u001b[0m\u001b[0;36m1\u001b[0m\u001b[0;34m]\u001b[0m\u001b[0;34m\u001b[0m\u001b[0;34m\u001b[0m\u001b[0m\n\u001b[0m\u001b[1;32m   3814\u001b[0m \u001b[0;34m\u001b[0m\u001b[0m\n\u001b[1;32m   3815\u001b[0m         \u001b[0;31m# take() does not accept boolean indexers\u001b[0m\u001b[0;34m\u001b[0m\u001b[0;34m\u001b[0m\u001b[0m\n",
            "\u001b[0;32m/usr/local/lib/python3.10/dist-packages/pandas/core/indexes/base.py\u001b[0m in \u001b[0;36m_get_indexer_strict\u001b[0;34m(self, key, axis_name)\u001b[0m\n\u001b[1;32m   6068\u001b[0m             \u001b[0mkeyarr\u001b[0m\u001b[0;34m,\u001b[0m \u001b[0mindexer\u001b[0m\u001b[0;34m,\u001b[0m \u001b[0mnew_indexer\u001b[0m \u001b[0;34m=\u001b[0m \u001b[0mself\u001b[0m\u001b[0;34m.\u001b[0m\u001b[0m_reindex_non_unique\u001b[0m\u001b[0;34m(\u001b[0m\u001b[0mkeyarr\u001b[0m\u001b[0;34m)\u001b[0m\u001b[0;34m\u001b[0m\u001b[0;34m\u001b[0m\u001b[0m\n\u001b[1;32m   6069\u001b[0m \u001b[0;34m\u001b[0m\u001b[0m\n\u001b[0;32m-> 6070\u001b[0;31m         \u001b[0mself\u001b[0m\u001b[0;34m.\u001b[0m\u001b[0m_raise_if_missing\u001b[0m\u001b[0;34m(\u001b[0m\u001b[0mkeyarr\u001b[0m\u001b[0;34m,\u001b[0m \u001b[0mindexer\u001b[0m\u001b[0;34m,\u001b[0m \u001b[0maxis_name\u001b[0m\u001b[0;34m)\u001b[0m\u001b[0;34m\u001b[0m\u001b[0;34m\u001b[0m\u001b[0m\n\u001b[0m\u001b[1;32m   6071\u001b[0m \u001b[0;34m\u001b[0m\u001b[0m\n\u001b[1;32m   6072\u001b[0m         \u001b[0mkeyarr\u001b[0m \u001b[0;34m=\u001b[0m \u001b[0mself\u001b[0m\u001b[0;34m.\u001b[0m\u001b[0mtake\u001b[0m\u001b[0;34m(\u001b[0m\u001b[0mindexer\u001b[0m\u001b[0;34m)\u001b[0m\u001b[0;34m\u001b[0m\u001b[0;34m\u001b[0m\u001b[0m\n",
            "\u001b[0;32m/usr/local/lib/python3.10/dist-packages/pandas/core/indexes/base.py\u001b[0m in \u001b[0;36m_raise_if_missing\u001b[0;34m(self, key, indexer, axis_name)\u001b[0m\n\u001b[1;32m   6128\u001b[0m                 \u001b[0;32mif\u001b[0m \u001b[0muse_interval_msg\u001b[0m\u001b[0;34m:\u001b[0m\u001b[0;34m\u001b[0m\u001b[0;34m\u001b[0m\u001b[0m\n\u001b[1;32m   6129\u001b[0m                     \u001b[0mkey\u001b[0m \u001b[0;34m=\u001b[0m \u001b[0mlist\u001b[0m\u001b[0;34m(\u001b[0m\u001b[0mkey\u001b[0m\u001b[0;34m)\u001b[0m\u001b[0;34m\u001b[0m\u001b[0;34m\u001b[0m\u001b[0m\n\u001b[0;32m-> 6130\u001b[0;31m                 \u001b[0;32mraise\u001b[0m \u001b[0mKeyError\u001b[0m\u001b[0;34m(\u001b[0m\u001b[0;34mf\"None of [{key}] are in the [{axis_name}]\"\u001b[0m\u001b[0;34m)\u001b[0m\u001b[0;34m\u001b[0m\u001b[0;34m\u001b[0m\u001b[0m\n\u001b[0m\u001b[1;32m   6131\u001b[0m \u001b[0;34m\u001b[0m\u001b[0m\n\u001b[1;32m   6132\u001b[0m             \u001b[0mnot_found\u001b[0m \u001b[0;34m=\u001b[0m \u001b[0mlist\u001b[0m\u001b[0;34m(\u001b[0m\u001b[0mensure_index\u001b[0m\u001b[0;34m(\u001b[0m\u001b[0mkey\u001b[0m\u001b[0;34m)\u001b[0m\u001b[0;34m[\u001b[0m\u001b[0mmissing_mask\u001b[0m\u001b[0;34m.\u001b[0m\u001b[0mnonzero\u001b[0m\u001b[0;34m(\u001b[0m\u001b[0;34m)\u001b[0m\u001b[0;34m[\u001b[0m\u001b[0;36m0\u001b[0m\u001b[0;34m]\u001b[0m\u001b[0;34m]\u001b[0m\u001b[0;34m.\u001b[0m\u001b[0munique\u001b[0m\u001b[0;34m(\u001b[0m\u001b[0;34m)\u001b[0m\u001b[0;34m)\u001b[0m\u001b[0;34m\u001b[0m\u001b[0;34m\u001b[0m\u001b[0m\n",
            "\u001b[0;31mKeyError\u001b[0m: \"None of [Index(['id_str', 'text', 'screen_name', 'search_term', 'search_term_group',\\n       'source', 'ibm_watson_sentiment'],\\n      dtype='object')] are in the [columns]\""
          ]
        }
      ]
    },
    {
      "cell_type": "markdown",
      "metadata": {
        "id": "YH9COib0Gz_w"
      },
      "source": [
        "# Naive Bayes"
      ],
      "id": "YH9COib0Gz_w"
    },
    {
      "cell_type": "markdown",
      "metadata": {
        "id": "SDlvFJQ4v5Jx"
      },
      "source": [
        "## Prepara uma amostra com 100 registros para validarmos a acuracia por nos mesmos"
      ],
      "id": "SDlvFJQ4v5Jx"
    },
    {
      "cell_type": "code",
      "metadata": {
        "id": "2Ri6S58wG-st"
      },
      "source": [
        "# Faz uma amostra apenas com 200 registros aleatorios\n",
        "# Iremos descatar alguns que classificarmos como neutro\n",
        "df_nb = df.loc[df['sentiment'].ne(0)].sample(200)\n",
        "\n",
        "#Salva o arquivo para podermos analisar na mao\n",
        "df_nb.to_csv(\"https://raw.githubusercontent.com/lucianomcsilva/RIWRS/main/amostra.csv\")"
      ],
      "id": "2Ri6S58wG-st",
      "execution_count": null,
      "outputs": []
    },
    {
      "cell_type": "markdown",
      "metadata": {
        "id": "QUOMh2bfv5a7"
      },
      "source": [
        "## Carrega o Arquivo Revisado"
      ],
      "id": "QUOMh2bfv5a7"
    },
    {
      "cell_type": "code",
      "source": [
        "df_nbr"
      ],
      "metadata": {
        "id": "t5xzlyOkRO_T",
        "outputId": "1dd56720-d16b-403a-b2aa-1968bbe6f4e0",
        "colab": {
          "base_uri": "https://localhost:8080/",
          "height": 895
        }
      },
      "id": "t5xzlyOkRO_T",
      "execution_count": 7,
      "outputs": [
        {
          "output_type": "execute_result",
          "data": {
            "text/plain": [
              "     Column1       id_str                                               text  \\\n",
              "1       3162  1,45083E+18  Vou ter q assinar o globoplay só pra assistir ...   \n",
              "2       2602  1,45101E+18  PAREM DE ASSISTIR VERDADES SECRETAS O GLOBOPLA...   \n",
              "3       5341  1,45116E+18  enfim vendo death note antes de tirarem da net...   \n",
              "4       7659  1,44949E+18  @nanacaligari @Netflix_Sandman @e3echo @lovegw...   \n",
              "5       5776  1,45087E+18  resmunguei horrores qd anunciaram rebelde da n...   \n",
              "..       ...          ...                                                ...   \n",
              "195     1474  1,44991E+18  @GustavinPlus @Daniel_gutiere Nunca vi! Conto ...   \n",
              "196     8012  1,44957E+18  Assisti Agora Estamos Sozinhos na #PrimeVideo ...   \n",
              "197     3284   1,4524E+18  Como o aplicativo da HBO Max é ruim. Minha nossa!   \n",
              "198     2862  1,45098E+18  O @globoplay de Alguém tá funcionando? #Verdad...   \n",
              "199     1449  1,44996E+18  @Dantinhas Me tornei quem eu mais temiaaa.. pq...   \n",
              "\n",
              "         screen_name search_term search_term_group               source  \\\n",
              "1      Gois99Leticia   globoplay         globoplay   Twitter for iPhone   \n",
              "2            w_petun   globoplay         globoplay   Twitter for iPhone   \n",
              "3       arigoncalvex     netflix           netflix      Twitter Web App   \n",
              "4              n_ins     netflix           netflix   Twitter for iPhone   \n",
              "5            _alinii     netflix           netflix   Twitter for iPhone   \n",
              "..               ...         ...               ...                  ...   \n",
              "195        cinestera     disney+           disney+   Twitter for iPhone   \n",
              "196    crovislimone2  primevideo        primevideo   Twitter for iPhone   \n",
              "197            r0cc0     hbo max            hbomax  Twitter for Android   \n",
              "198      RealityTvBr   globoplay         globoplay  Twitter for Android   \n",
              "199  IFLdesconhecida     disney+           disney+   Twitter for iPhone   \n",
              "\n",
              "    ibm_watson_sentiment  sentiment_revised  sentiment  \n",
              "1           -8,91873E+15                 -1         -1  \n",
              "2           -9,24123E+15                 -1         -1  \n",
              "3           -6,52531E+15                 -1         -1  \n",
              "4                -728079                 -1         -1  \n",
              "5                -760904                 -1         -1  \n",
              "..                   ...                ...        ...  \n",
              "195               899835                 -1          1  \n",
              "196         -9,84106E+15                 -1         -1  \n",
              "197              -911342                 -1         -1  \n",
              "198              -700993                 -1         -1  \n",
              "199              -977784                 -1         -1  \n",
              "\n",
              "[174 rows x 10 columns]"
            ],
            "text/html": [
              "\n",
              "  <div id=\"df-7e3305a0-63f4-4f89-9ba8-f5ef924e355b\" class=\"colab-df-container\">\n",
              "    <div>\n",
              "<style scoped>\n",
              "    .dataframe tbody tr th:only-of-type {\n",
              "        vertical-align: middle;\n",
              "    }\n",
              "\n",
              "    .dataframe tbody tr th {\n",
              "        vertical-align: top;\n",
              "    }\n",
              "\n",
              "    .dataframe thead th {\n",
              "        text-align: right;\n",
              "    }\n",
              "</style>\n",
              "<table border=\"1\" class=\"dataframe\">\n",
              "  <thead>\n",
              "    <tr style=\"text-align: right;\">\n",
              "      <th></th>\n",
              "      <th>Column1</th>\n",
              "      <th>id_str</th>\n",
              "      <th>text</th>\n",
              "      <th>screen_name</th>\n",
              "      <th>search_term</th>\n",
              "      <th>search_term_group</th>\n",
              "      <th>source</th>\n",
              "      <th>ibm_watson_sentiment</th>\n",
              "      <th>sentiment_revised</th>\n",
              "      <th>sentiment</th>\n",
              "    </tr>\n",
              "  </thead>\n",
              "  <tbody>\n",
              "    <tr>\n",
              "      <th>1</th>\n",
              "      <td>3162</td>\n",
              "      <td>1,45083E+18</td>\n",
              "      <td>Vou ter q assinar o globoplay só pra assistir ...</td>\n",
              "      <td>Gois99Leticia</td>\n",
              "      <td>globoplay</td>\n",
              "      <td>globoplay</td>\n",
              "      <td>Twitter for iPhone</td>\n",
              "      <td>-8,91873E+15</td>\n",
              "      <td>-1</td>\n",
              "      <td>-1</td>\n",
              "    </tr>\n",
              "    <tr>\n",
              "      <th>2</th>\n",
              "      <td>2602</td>\n",
              "      <td>1,45101E+18</td>\n",
              "      <td>PAREM DE ASSISTIR VERDADES SECRETAS O GLOBOPLA...</td>\n",
              "      <td>w_petun</td>\n",
              "      <td>globoplay</td>\n",
              "      <td>globoplay</td>\n",
              "      <td>Twitter for iPhone</td>\n",
              "      <td>-9,24123E+15</td>\n",
              "      <td>-1</td>\n",
              "      <td>-1</td>\n",
              "    </tr>\n",
              "    <tr>\n",
              "      <th>3</th>\n",
              "      <td>5341</td>\n",
              "      <td>1,45116E+18</td>\n",
              "      <td>enfim vendo death note antes de tirarem da net...</td>\n",
              "      <td>arigoncalvex</td>\n",
              "      <td>netflix</td>\n",
              "      <td>netflix</td>\n",
              "      <td>Twitter Web App</td>\n",
              "      <td>-6,52531E+15</td>\n",
              "      <td>-1</td>\n",
              "      <td>-1</td>\n",
              "    </tr>\n",
              "    <tr>\n",
              "      <th>4</th>\n",
              "      <td>7659</td>\n",
              "      <td>1,44949E+18</td>\n",
              "      <td>@nanacaligari @Netflix_Sandman @e3echo @lovegw...</td>\n",
              "      <td>n_ins</td>\n",
              "      <td>netflix</td>\n",
              "      <td>netflix</td>\n",
              "      <td>Twitter for iPhone</td>\n",
              "      <td>-728079</td>\n",
              "      <td>-1</td>\n",
              "      <td>-1</td>\n",
              "    </tr>\n",
              "    <tr>\n",
              "      <th>5</th>\n",
              "      <td>5776</td>\n",
              "      <td>1,45087E+18</td>\n",
              "      <td>resmunguei horrores qd anunciaram rebelde da n...</td>\n",
              "      <td>_alinii</td>\n",
              "      <td>netflix</td>\n",
              "      <td>netflix</td>\n",
              "      <td>Twitter for iPhone</td>\n",
              "      <td>-760904</td>\n",
              "      <td>-1</td>\n",
              "      <td>-1</td>\n",
              "    </tr>\n",
              "    <tr>\n",
              "      <th>...</th>\n",
              "      <td>...</td>\n",
              "      <td>...</td>\n",
              "      <td>...</td>\n",
              "      <td>...</td>\n",
              "      <td>...</td>\n",
              "      <td>...</td>\n",
              "      <td>...</td>\n",
              "      <td>...</td>\n",
              "      <td>...</td>\n",
              "      <td>...</td>\n",
              "    </tr>\n",
              "    <tr>\n",
              "      <th>195</th>\n",
              "      <td>1474</td>\n",
              "      <td>1,44991E+18</td>\n",
              "      <td>@GustavinPlus @Daniel_gutiere Nunca vi! Conto ...</td>\n",
              "      <td>cinestera</td>\n",
              "      <td>disney+</td>\n",
              "      <td>disney+</td>\n",
              "      <td>Twitter for iPhone</td>\n",
              "      <td>899835</td>\n",
              "      <td>-1</td>\n",
              "      <td>1</td>\n",
              "    </tr>\n",
              "    <tr>\n",
              "      <th>196</th>\n",
              "      <td>8012</td>\n",
              "      <td>1,44957E+18</td>\n",
              "      <td>Assisti Agora Estamos Sozinhos na #PrimeVideo ...</td>\n",
              "      <td>crovislimone2</td>\n",
              "      <td>primevideo</td>\n",
              "      <td>primevideo</td>\n",
              "      <td>Twitter for iPhone</td>\n",
              "      <td>-9,84106E+15</td>\n",
              "      <td>-1</td>\n",
              "      <td>-1</td>\n",
              "    </tr>\n",
              "    <tr>\n",
              "      <th>197</th>\n",
              "      <td>3284</td>\n",
              "      <td>1,4524E+18</td>\n",
              "      <td>Como o aplicativo da HBO Max é ruim. Minha nossa!</td>\n",
              "      <td>r0cc0</td>\n",
              "      <td>hbo max</td>\n",
              "      <td>hbomax</td>\n",
              "      <td>Twitter for Android</td>\n",
              "      <td>-911342</td>\n",
              "      <td>-1</td>\n",
              "      <td>-1</td>\n",
              "    </tr>\n",
              "    <tr>\n",
              "      <th>198</th>\n",
              "      <td>2862</td>\n",
              "      <td>1,45098E+18</td>\n",
              "      <td>O @globoplay de Alguém tá funcionando? #Verdad...</td>\n",
              "      <td>RealityTvBr</td>\n",
              "      <td>globoplay</td>\n",
              "      <td>globoplay</td>\n",
              "      <td>Twitter for Android</td>\n",
              "      <td>-700993</td>\n",
              "      <td>-1</td>\n",
              "      <td>-1</td>\n",
              "    </tr>\n",
              "    <tr>\n",
              "      <th>199</th>\n",
              "      <td>1449</td>\n",
              "      <td>1,44996E+18</td>\n",
              "      <td>@Dantinhas Me tornei quem eu mais temiaaa.. pq...</td>\n",
              "      <td>IFLdesconhecida</td>\n",
              "      <td>disney+</td>\n",
              "      <td>disney+</td>\n",
              "      <td>Twitter for iPhone</td>\n",
              "      <td>-977784</td>\n",
              "      <td>-1</td>\n",
              "      <td>-1</td>\n",
              "    </tr>\n",
              "  </tbody>\n",
              "</table>\n",
              "<p>174 rows × 10 columns</p>\n",
              "</div>\n",
              "    <div class=\"colab-df-buttons\">\n",
              "\n",
              "  <div class=\"colab-df-container\">\n",
              "    <button class=\"colab-df-convert\" onclick=\"convertToInteractive('df-7e3305a0-63f4-4f89-9ba8-f5ef924e355b')\"\n",
              "            title=\"Convert this dataframe to an interactive table.\"\n",
              "            style=\"display:none;\">\n",
              "\n",
              "  <svg xmlns=\"http://www.w3.org/2000/svg\" height=\"24px\" viewBox=\"0 -960 960 960\">\n",
              "    <path d=\"M120-120v-720h720v720H120Zm60-500h600v-160H180v160Zm220 220h160v-160H400v160Zm0 220h160v-160H400v160ZM180-400h160v-160H180v160Zm440 0h160v-160H620v160ZM180-180h160v-160H180v160Zm440 0h160v-160H620v160Z\"/>\n",
              "  </svg>\n",
              "    </button>\n",
              "\n",
              "  <style>\n",
              "    .colab-df-container {\n",
              "      display:flex;\n",
              "      gap: 12px;\n",
              "    }\n",
              "\n",
              "    .colab-df-convert {\n",
              "      background-color: #E8F0FE;\n",
              "      border: none;\n",
              "      border-radius: 50%;\n",
              "      cursor: pointer;\n",
              "      display: none;\n",
              "      fill: #1967D2;\n",
              "      height: 32px;\n",
              "      padding: 0 0 0 0;\n",
              "      width: 32px;\n",
              "    }\n",
              "\n",
              "    .colab-df-convert:hover {\n",
              "      background-color: #E2EBFA;\n",
              "      box-shadow: 0px 1px 2px rgba(60, 64, 67, 0.3), 0px 1px 3px 1px rgba(60, 64, 67, 0.15);\n",
              "      fill: #174EA6;\n",
              "    }\n",
              "\n",
              "    .colab-df-buttons div {\n",
              "      margin-bottom: 4px;\n",
              "    }\n",
              "\n",
              "    [theme=dark] .colab-df-convert {\n",
              "      background-color: #3B4455;\n",
              "      fill: #D2E3FC;\n",
              "    }\n",
              "\n",
              "    [theme=dark] .colab-df-convert:hover {\n",
              "      background-color: #434B5C;\n",
              "      box-shadow: 0px 1px 3px 1px rgba(0, 0, 0, 0.15);\n",
              "      filter: drop-shadow(0px 1px 2px rgba(0, 0, 0, 0.3));\n",
              "      fill: #FFFFFF;\n",
              "    }\n",
              "  </style>\n",
              "\n",
              "    <script>\n",
              "      const buttonEl =\n",
              "        document.querySelector('#df-7e3305a0-63f4-4f89-9ba8-f5ef924e355b button.colab-df-convert');\n",
              "      buttonEl.style.display =\n",
              "        google.colab.kernel.accessAllowed ? 'block' : 'none';\n",
              "\n",
              "      async function convertToInteractive(key) {\n",
              "        const element = document.querySelector('#df-7e3305a0-63f4-4f89-9ba8-f5ef924e355b');\n",
              "        const dataTable =\n",
              "          await google.colab.kernel.invokeFunction('convertToInteractive',\n",
              "                                                    [key], {});\n",
              "        if (!dataTable) return;\n",
              "\n",
              "        const docLinkHtml = 'Like what you see? Visit the ' +\n",
              "          '<a target=\"_blank\" href=https://colab.research.google.com/notebooks/data_table.ipynb>data table notebook</a>'\n",
              "          + ' to learn more about interactive tables.';\n",
              "        element.innerHTML = '';\n",
              "        dataTable['output_type'] = 'display_data';\n",
              "        await google.colab.output.renderOutput(dataTable, element);\n",
              "        const docLink = document.createElement('div');\n",
              "        docLink.innerHTML = docLinkHtml;\n",
              "        element.appendChild(docLink);\n",
              "      }\n",
              "    </script>\n",
              "  </div>\n",
              "\n",
              "\n",
              "<div id=\"df-4a9a131b-b058-41ba-ae12-0a2efea11ab2\">\n",
              "  <button class=\"colab-df-quickchart\" onclick=\"quickchart('df-4a9a131b-b058-41ba-ae12-0a2efea11ab2')\"\n",
              "            title=\"Suggest charts\"\n",
              "            style=\"display:none;\">\n",
              "\n",
              "<svg xmlns=\"http://www.w3.org/2000/svg\" height=\"24px\"viewBox=\"0 0 24 24\"\n",
              "     width=\"24px\">\n",
              "    <g>\n",
              "        <path d=\"M19 3H5c-1.1 0-2 .9-2 2v14c0 1.1.9 2 2 2h14c1.1 0 2-.9 2-2V5c0-1.1-.9-2-2-2zM9 17H7v-7h2v7zm4 0h-2V7h2v10zm4 0h-2v-4h2v4z\"/>\n",
              "    </g>\n",
              "</svg>\n",
              "  </button>\n",
              "\n",
              "<style>\n",
              "  .colab-df-quickchart {\n",
              "      --bg-color: #E8F0FE;\n",
              "      --fill-color: #1967D2;\n",
              "      --hover-bg-color: #E2EBFA;\n",
              "      --hover-fill-color: #174EA6;\n",
              "      --disabled-fill-color: #AAA;\n",
              "      --disabled-bg-color: #DDD;\n",
              "  }\n",
              "\n",
              "  [theme=dark] .colab-df-quickchart {\n",
              "      --bg-color: #3B4455;\n",
              "      --fill-color: #D2E3FC;\n",
              "      --hover-bg-color: #434B5C;\n",
              "      --hover-fill-color: #FFFFFF;\n",
              "      --disabled-bg-color: #3B4455;\n",
              "      --disabled-fill-color: #666;\n",
              "  }\n",
              "\n",
              "  .colab-df-quickchart {\n",
              "    background-color: var(--bg-color);\n",
              "    border: none;\n",
              "    border-radius: 50%;\n",
              "    cursor: pointer;\n",
              "    display: none;\n",
              "    fill: var(--fill-color);\n",
              "    height: 32px;\n",
              "    padding: 0;\n",
              "    width: 32px;\n",
              "  }\n",
              "\n",
              "  .colab-df-quickchart:hover {\n",
              "    background-color: var(--hover-bg-color);\n",
              "    box-shadow: 0 1px 2px rgba(60, 64, 67, 0.3), 0 1px 3px 1px rgba(60, 64, 67, 0.15);\n",
              "    fill: var(--button-hover-fill-color);\n",
              "  }\n",
              "\n",
              "  .colab-df-quickchart-complete:disabled,\n",
              "  .colab-df-quickchart-complete:disabled:hover {\n",
              "    background-color: var(--disabled-bg-color);\n",
              "    fill: var(--disabled-fill-color);\n",
              "    box-shadow: none;\n",
              "  }\n",
              "\n",
              "  .colab-df-spinner {\n",
              "    border: 2px solid var(--fill-color);\n",
              "    border-color: transparent;\n",
              "    border-bottom-color: var(--fill-color);\n",
              "    animation:\n",
              "      spin 1s steps(1) infinite;\n",
              "  }\n",
              "\n",
              "  @keyframes spin {\n",
              "    0% {\n",
              "      border-color: transparent;\n",
              "      border-bottom-color: var(--fill-color);\n",
              "      border-left-color: var(--fill-color);\n",
              "    }\n",
              "    20% {\n",
              "      border-color: transparent;\n",
              "      border-left-color: var(--fill-color);\n",
              "      border-top-color: var(--fill-color);\n",
              "    }\n",
              "    30% {\n",
              "      border-color: transparent;\n",
              "      border-left-color: var(--fill-color);\n",
              "      border-top-color: var(--fill-color);\n",
              "      border-right-color: var(--fill-color);\n",
              "    }\n",
              "    40% {\n",
              "      border-color: transparent;\n",
              "      border-right-color: var(--fill-color);\n",
              "      border-top-color: var(--fill-color);\n",
              "    }\n",
              "    60% {\n",
              "      border-color: transparent;\n",
              "      border-right-color: var(--fill-color);\n",
              "    }\n",
              "    80% {\n",
              "      border-color: transparent;\n",
              "      border-right-color: var(--fill-color);\n",
              "      border-bottom-color: var(--fill-color);\n",
              "    }\n",
              "    90% {\n",
              "      border-color: transparent;\n",
              "      border-bottom-color: var(--fill-color);\n",
              "    }\n",
              "  }\n",
              "</style>\n",
              "\n",
              "  <script>\n",
              "    async function quickchart(key) {\n",
              "      const quickchartButtonEl =\n",
              "        document.querySelector('#' + key + ' button');\n",
              "      quickchartButtonEl.disabled = true;  // To prevent multiple clicks.\n",
              "      quickchartButtonEl.classList.add('colab-df-spinner');\n",
              "      try {\n",
              "        const charts = await google.colab.kernel.invokeFunction(\n",
              "            'suggestCharts', [key], {});\n",
              "      } catch (error) {\n",
              "        console.error('Error during call to suggestCharts:', error);\n",
              "      }\n",
              "      quickchartButtonEl.classList.remove('colab-df-spinner');\n",
              "      quickchartButtonEl.classList.add('colab-df-quickchart-complete');\n",
              "    }\n",
              "    (() => {\n",
              "      let quickchartButtonEl =\n",
              "        document.querySelector('#df-4a9a131b-b058-41ba-ae12-0a2efea11ab2 button');\n",
              "      quickchartButtonEl.style.display =\n",
              "        google.colab.kernel.accessAllowed ? 'block' : 'none';\n",
              "    })();\n",
              "  </script>\n",
              "</div>\n",
              "\n",
              "  <div id=\"id_7ff8c5b8-d7a6-4f67-afa3-f6fdbd93a72f\">\n",
              "    <style>\n",
              "      .colab-df-generate {\n",
              "        background-color: #E8F0FE;\n",
              "        border: none;\n",
              "        border-radius: 50%;\n",
              "        cursor: pointer;\n",
              "        display: none;\n",
              "        fill: #1967D2;\n",
              "        height: 32px;\n",
              "        padding: 0 0 0 0;\n",
              "        width: 32px;\n",
              "      }\n",
              "\n",
              "      .colab-df-generate:hover {\n",
              "        background-color: #E2EBFA;\n",
              "        box-shadow: 0px 1px 2px rgba(60, 64, 67, 0.3), 0px 1px 3px 1px rgba(60, 64, 67, 0.15);\n",
              "        fill: #174EA6;\n",
              "      }\n",
              "\n",
              "      [theme=dark] .colab-df-generate {\n",
              "        background-color: #3B4455;\n",
              "        fill: #D2E3FC;\n",
              "      }\n",
              "\n",
              "      [theme=dark] .colab-df-generate:hover {\n",
              "        background-color: #434B5C;\n",
              "        box-shadow: 0px 1px 3px 1px rgba(0, 0, 0, 0.15);\n",
              "        filter: drop-shadow(0px 1px 2px rgba(0, 0, 0, 0.3));\n",
              "        fill: #FFFFFF;\n",
              "      }\n",
              "    </style>\n",
              "    <button class=\"colab-df-generate\" onclick=\"generateWithVariable('df_nbr')\"\n",
              "            title=\"Generate code using this dataframe.\"\n",
              "            style=\"display:none;\">\n",
              "\n",
              "  <svg xmlns=\"http://www.w3.org/2000/svg\" height=\"24px\"viewBox=\"0 0 24 24\"\n",
              "       width=\"24px\">\n",
              "    <path d=\"M7,19H8.4L18.45,9,17,7.55,7,17.6ZM5,21V16.75L18.45,3.32a2,2,0,0,1,2.83,0l1.4,1.43a1.91,1.91,0,0,1,.58,1.4,1.91,1.91,0,0,1-.58,1.4L9.25,21ZM18.45,9,17,7.55Zm-12,3A5.31,5.31,0,0,0,4.9,8.1,5.31,5.31,0,0,0,1,6.5,5.31,5.31,0,0,0,4.9,4.9,5.31,5.31,0,0,0,6.5,1,5.31,5.31,0,0,0,8.1,4.9,5.31,5.31,0,0,0,12,6.5,5.46,5.46,0,0,0,6.5,12Z\"/>\n",
              "  </svg>\n",
              "    </button>\n",
              "    <script>\n",
              "      (() => {\n",
              "      const buttonEl =\n",
              "        document.querySelector('#id_7ff8c5b8-d7a6-4f67-afa3-f6fdbd93a72f button.colab-df-generate');\n",
              "      buttonEl.style.display =\n",
              "        google.colab.kernel.accessAllowed ? 'block' : 'none';\n",
              "\n",
              "      buttonEl.onclick = () => {\n",
              "        google.colab.notebook.generateWithVariable('df_nbr');\n",
              "      }\n",
              "      })();\n",
              "    </script>\n",
              "  </div>\n",
              "\n",
              "    </div>\n",
              "  </div>\n"
            ],
            "application/vnd.google.colaboratory.intrinsic+json": {
              "type": "dataframe",
              "variable_name": "df_nbr",
              "summary": "{\n  \"name\": \"df_nbr\",\n  \"rows\": 174,\n  \"fields\": [\n    {\n      \"column\": \"Column1\",\n      \"properties\": {\n        \"dtype\": \"number\",\n        \"std\": 2261,\n        \"min\": 141,\n        \"max\": 8012,\n        \"num_unique_values\": 174,\n        \"samples\": [\n          916,\n          4947,\n          4416\n        ],\n        \"semantic_type\": \"\",\n        \"description\": \"\"\n      }\n    },\n    {\n      \"column\": \"id_str\",\n      \"properties\": {\n        \"dtype\": \"string\",\n        \"num_unique_values\": 121,\n        \"samples\": [\n          \"1,45096E+18\",\n          \"1,45244E+18\",\n          \"1,45087E+18\"\n        ],\n        \"semantic_type\": \"\",\n        \"description\": \"\"\n      }\n    },\n    {\n      \"column\": \"text\",\n      \"properties\": {\n        \"dtype\": \"string\",\n        \"num_unique_values\": 174,\n        \"samples\": [\n          \"@chicobarney Mc Disney n\\u00e3o  chega muito longe , ele quer ser a voz da raz\\u00e3o...man\\u00e9.\",\n          \"Oq as outras meninas querem na tpm: mimos, amor, carinho e ver Netflix\\nEu: comida e poder dar \\ud83e\\udd0f\\ud83c\\udffb\\u2728\\ud83d\\ude0d\",\n          \"Essa rebelde da Netflix tik tok n\\u00e3o vai me descer n\\u00e3o\"\n        ],\n        \"semantic_type\": \"\",\n        \"description\": \"\"\n      }\n    },\n    {\n      \"column\": \"screen_name\",\n      \"properties\": {\n        \"dtype\": \"string\",\n        \"num_unique_values\": 173,\n        \"samples\": [\n          \"itsbaldini\",\n          \"jey_loow\",\n          \"BrasiliaFl\"\n        ],\n        \"semantic_type\": \"\",\n        \"description\": \"\"\n      }\n    },\n    {\n      \"column\": \"search_term\",\n      \"properties\": {\n        \"dtype\": \"category\",\n        \"num_unique_values\": 6,\n        \"samples\": [\n          \"globoplay\",\n          \"netflix\",\n          \"primevideo\"\n        ],\n        \"semantic_type\": \"\",\n        \"description\": \"\"\n      }\n    },\n    {\n      \"column\": \"search_term_group\",\n      \"properties\": {\n        \"dtype\": \"category\",\n        \"num_unique_values\": 5,\n        \"samples\": [\n          \"netflix\",\n          \"primevideo\",\n          \"disney+\"\n        ],\n        \"semantic_type\": \"\",\n        \"description\": \"\"\n      }\n    },\n    {\n      \"column\": \"source\",\n      \"properties\": {\n        \"dtype\": \"category\",\n        \"num_unique_values\": 8,\n        \"samples\": [\n          \"Twitter Web App\",\n          \"TweetDeck\",\n          \"Twitter for iPhone\"\n        ],\n        \"semantic_type\": \"\",\n        \"description\": \"\"\n      }\n    },\n    {\n      \"column\": \"ibm_watson_sentiment\",\n      \"properties\": {\n        \"dtype\": \"string\",\n        \"num_unique_values\": 173,\n        \"samples\": [\n          \"-6,73264E+15\",\n          \"-9,59819E+15\",\n          \"-925364\"\n        ],\n        \"semantic_type\": \"\",\n        \"description\": \"\"\n      }\n    },\n    {\n      \"column\": \"sentiment_revised\",\n      \"properties\": {\n        \"dtype\": \"number\",\n        \"std\": 0,\n        \"min\": -1,\n        \"max\": 1,\n        \"num_unique_values\": 2,\n        \"samples\": [\n          1,\n          -1\n        ],\n        \"semantic_type\": \"\",\n        \"description\": \"\"\n      }\n    },\n    {\n      \"column\": \"sentiment\",\n      \"properties\": {\n        \"dtype\": \"number\",\n        \"std\": 0,\n        \"min\": -1,\n        \"max\": 1,\n        \"num_unique_values\": 2,\n        \"samples\": [\n          1,\n          -1\n        ],\n        \"semantic_type\": \"\",\n        \"description\": \"\"\n      }\n    }\n  ]\n}"
            }
          },
          "metadata": {},
          "execution_count": 7
        }
      ]
    },
    {
      "cell_type": "code",
      "metadata": {
        "id": "zDrDtB8EvxCt"
      },
      "source": [
        "df_nbr = pd.read_csv('amostras-revisado.csv', delimiter=';')\n",
        "df_nbr = df_nbr.loc[df_nbr['sentiment_revised'].ne(0)]\n",
        "#df_nbr_pos = df_nbr.loc[df_nbr['sentiment_revised'].eq(1)]\n"
      ],
      "id": "zDrDtB8EvxCt",
      "execution_count": 6,
      "outputs": []
    },
    {
      "cell_type": "code",
      "source": [
        "df_nbr"
      ],
      "metadata": {
        "id": "slTPLgwp8ccg"
      },
      "id": "slTPLgwp8ccg",
      "execution_count": null,
      "outputs": []
    },
    {
      "cell_type": "markdown",
      "metadata": {
        "id": "d7fYiPwUv4PD"
      },
      "source": [],
      "id": "d7fYiPwUv4PD"
    },
    {
      "cell_type": "code",
      "metadata": {
        "id": "3pLauEH0vyrS"
      },
      "source": [
        "from sklearn.naive_bayes import MultinomialNB\n",
        "from sklearn.feature_extraction.text import CountVectorizer\n",
        "from sklearn import metrics\n",
        "\n",
        "vectorizer = CountVectorizer()\n",
        "\n",
        "# Vectorize the text\n",
        "X = vectorizer.fit_transform(df_nbr['text'])\n",
        "Y = df_nbr['sentiment_revised']\n",
        "\n",
        "# Split dataset\n",
        "x_train,x_test,y_train,y_test = train_test_split(X,Y,test_size=0.33,random_state=42)\n",
        "\n",
        "vocabulary = vectorizer.get_feature_names_out()\n",
        "dfX = pd.DataFrame(data=X.toarray(), columns=vocabulary) #.iloc[:,0::2]"
      ],
      "id": "3pLauEH0vyrS",
      "execution_count": 9,
      "outputs": []
    },
    {
      "cell_type": "code",
      "metadata": {
        "id": "PJz5bdwpKjqC",
        "colab": {
          "base_uri": "https://localhost:8080/"
        },
        "outputId": "61759275-363e-4651-d668-c2bbc4512479"
      },
      "source": [
        "# Building Our Model\n",
        "clf = MultinomialNB()\n",
        "clf.fit(x_train,y_train)\n",
        "\n",
        "print(\"Accuracy of Model :\",clf.score(x_test,y_test))"
      ],
      "id": "PJz5bdwpKjqC",
      "execution_count": 10,
      "outputs": [
        {
          "output_type": "stream",
          "name": "stdout",
          "text": [
            "Accuracy of Model : 0.6724137931034483\n"
          ]
        }
      ]
    },
    {
      "cell_type": "code",
      "metadata": {
        "id": "f_AtjrQFCuF9",
        "colab": {
          "base_uri": "https://localhost:8080/"
        },
        "outputId": "ecd22a91-68f5-4783-c5b4-af3d53e708d1"
      },
      "source": [
        "clf.get_params()"
      ],
      "id": "f_AtjrQFCuF9",
      "execution_count": 11,
      "outputs": [
        {
          "output_type": "execute_result",
          "data": {
            "text/plain": [
              "{'alpha': 1.0, 'class_prior': None, 'fit_prior': True, 'force_alpha': 'warn'}"
            ]
          },
          "metadata": {},
          "execution_count": 11
        }
      ]
    },
    {
      "cell_type": "code",
      "metadata": {
        "id": "JZkZJGN49udP",
        "colab": {
          "base_uri": "https://localhost:8080/"
        },
        "outputId": "93edc24d-d3cf-4600-f43f-bffb5c7c35b1"
      },
      "source": [
        "test_tweet = ['adorei! recomendo titans.',\n",
        "              'Af pessimo',\n",
        "              ' Recomendo'\n",
        "             ]\n",
        "vect = vectorizer.transform(test_tweet).toarray()\n",
        "vect.shape\n",
        "clf.predict(vect)"
      ],
      "id": "JZkZJGN49udP",
      "execution_count": 24,
      "outputs": [
        {
          "output_type": "execute_result",
          "data": {
            "text/plain": [
              "array([ 1, -1,  1])"
            ]
          },
          "metadata": {},
          "execution_count": 24
        }
      ]
    },
    {
      "cell_type": "code",
      "metadata": {
        "id": "sG0DIKy8_MDt"
      },
      "source": [
        "# class_prob_sorted = clf.feature_log_prob_[0, :].argsort()[::-1]\n",
        "# print(np.take(vectorizer.get_feature_names(), class_prob_sorted[:10]))\n",
        "\n",
        "def get_salient_words(nb_clf, vect, class_ind):\n",
        "    \"\"\"Return salient words for given class\n",
        "    Parameters\n",
        "    ----------\n",
        "    nb_clf : a Naive Bayes classifier (e.g. MultinomialNB, BernoulliNB)\n",
        "    vect : CountVectorizer\n",
        "    class_ind : int\n",
        "    Returns\n",
        "    -------\n",
        "    list\n",
        "        a sorted list of (word, log prob) sorted by log probability in descending order.\n",
        "    \"\"\"\n",
        "\n",
        "    words = vect.get_feature_names_out()\n",
        "    zipped = list(zip(words, nb_clf.feature_log_prob_[class_ind]))\n",
        "    sorted_zip = sorted(zipped, key=lambda t: t[1], reverse=True)\n",
        "\n",
        "    return sorted_zip\n",
        "\n",
        "neg_salient_top_20 = get_salient_words(clf, vectorizer, 0)[:20]\n",
        "pos_salient_top_20 = get_salient_words(clf, vectorizer, 1)[:20]\n",
        "\n"
      ],
      "id": "sG0DIKy8_MDt",
      "execution_count": 17,
      "outputs": []
    },
    {
      "cell_type": "code",
      "metadata": {
        "id": "yswoaslqAt09",
        "colab": {
          "base_uri": "https://localhost:8080/"
        },
        "outputId": "d3465252-f99c-461d-8200-c8ecdc12dff8"
      },
      "source": [
        "neg_salient_top_20"
      ],
      "id": "yswoaslqAt09",
      "execution_count": 19,
      "outputs": [
        {
          "output_type": "execute_result",
          "data": {
            "text/plain": [
              "[('que', -4.128374310808412),\n",
              " ('co', -4.236587895448645),\n",
              " ('https', -4.265575432321897),\n",
              " ('de', -4.357948752452912),\n",
              " ('netflix', -4.390738575275902),\n",
              " ('não', -4.613882126590113),\n",
              " ('eu', -4.700893503579742),\n",
              " ('disney', -4.796203683384068),\n",
              " ('da', -4.847496977771618),\n",
              " ('globoplay', -4.901564199041894),\n",
              " ('pra', -4.901564199041894),\n",
              " ('na', -5.019347234698277),\n",
              " ('com', -5.083885755835848),\n",
              " ('mas', -5.226986599476522),\n",
              " ('do', -5.489350863944012),\n",
              " ('vai', -5.489350863944012),\n",
              " ('pq', -5.594711379601838),\n",
              " ('um', -5.594711379601838),\n",
              " ('vou', -5.594711379601838),\n",
              " ('por', -5.712494415258222)]"
            ]
          },
          "metadata": {},
          "execution_count": 19
        }
      ]
    },
    {
      "cell_type": "code",
      "metadata": {
        "id": "X_VH_F7TAw3D",
        "colab": {
          "base_uri": "https://localhost:8080/"
        },
        "outputId": "76c1e6ad-d85b-43ea-dd8e-008529320487"
      },
      "source": [
        "pos_salient_top_20"
      ],
      "id": "X_VH_F7TAw3D",
      "execution_count": 18,
      "outputs": [
        {
          "output_type": "execute_result",
          "data": {
            "text/plain": [
              "[('co', -4.28588277412098),\n",
              " ('https', -4.328442388539775),\n",
              " ('netflix', -4.328442388539775),\n",
              " ('de', -4.824879274853666),\n",
              " ('na', -4.898987247007389),\n",
              " ('que', -4.898987247007389),\n",
              " ('da', -5.066041331670554),\n",
              " ('com', -5.518026455413612),\n",
              " ('globoplay', -5.6721771352408705),\n",
              " ('meu', -5.6721771352408705),\n",
              " ('no', -5.6721771352408705),\n",
              " ('para', -5.6721771352408705),\n",
              " ('tem', -5.6721771352408705),\n",
              " ('as', -5.8544986920348245),\n",
              " ('do', -5.8544986920348245),\n",
              " ('está', -5.8544986920348245),\n",
              " ('eu', -5.8544986920348245),\n",
              " ('hbo', -5.8544986920348245),\n",
              " ('já', -5.8544986920348245),\n",
              " ('os', -5.8544986920348245)]"
            ]
          },
          "metadata": {},
          "execution_count": 18
        }
      ]
    }
  ]
}