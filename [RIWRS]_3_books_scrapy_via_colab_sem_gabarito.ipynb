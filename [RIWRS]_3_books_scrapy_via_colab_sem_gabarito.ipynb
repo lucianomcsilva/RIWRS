{
  "nbformat": 4,
  "nbformat_minor": 0,
  "metadata": {
    "colab": {
      "provenance": [],
      "include_colab_link": true
    },
    "kernelspec": {
      "name": "python3",
      "display_name": "Python 3"
    }
  },
  "cells": [
    {
      "cell_type": "markdown",
      "metadata": {
        "id": "view-in-github",
        "colab_type": "text"
      },
      "source": [
        "<a href=\"https://colab.research.google.com/github/lucianomcsilva/RIWRS/blob/main/%5BRIWRS%5D_3_books_scrapy_via_colab_sem_gabarito.ipynb\" target=\"_parent\"><img src=\"https://colab.research.google.com/assets/colab-badge.svg\" alt=\"Open In Colab\"/></a>"
      ]
    },
    {
      "cell_type": "markdown",
      "metadata": {
        "id": "BqtIy3rbs-SP"
      },
      "source": [
        "# Scrapy\n",
        "\n"
      ]
    },
    {
      "cell_type": "code",
      "metadata": {
        "id": "Kkm8SKKk9IJ4"
      },
      "source": [
        "# Instalando bibliotecas\n",
        "try:\n",
        "    import scrapy\n",
        "    from crochet import setup, wait_for\n",
        "except:\n",
        "    !pip install scrapy\n",
        "    !pip install crochet\n",
        "    import scrapy\n",
        "    from crochet import setup, wait_for\n"
      ],
      "execution_count": null,
      "outputs": []
    },
    {
      "cell_type": "code",
      "source": [
        "# text cleaning\n",
        "import re\n",
        "import scrapy\n",
        "import logging\n",
        "from scrapy.crawler import CrawlerRunner\n",
        "# Reactor restart\n",
        "setup()"
      ],
      "metadata": {
        "id": "R62p-ZvlWiny"
      },
      "execution_count": null,
      "outputs": []
    },
    {
      "cell_type": "code",
      "metadata": {
        "id": "fB9jntWrtvE5"
      },
      "source": [
        "class SpiderBooksSpider(scrapy.Spider):\n",
        "    name = 'spider_books'\n",
        "    allowed_domains = ['books.toscrape.com']\n",
        "    start_urls = ['http://books.toscrape.com/']\n",
        "    custom_settings = {\n",
        "        'LOG_LEVEL': 'DEBUG',\n",
        "        # 'FEED_URI': 'robo_aj.csv',                       # Used for pipeline\n",
        "        # 'FEED_FORMAT':'csv',                            # Used for pipeline\n",
        "        'FEEDS': {\n",
        "            'books.csv': {\n",
        "                'format': 'csv',\n",
        "                'overwrite': True\n",
        "            }\n",
        "        },\n",
        "        'USER_AGENT': 'Mozilla/5.0 (Windows NT 10.0; Win64; x64) AppleWebKit/537.36 (KHTML, like Gecko) Chrome/102.0.0.0 Safari/537.36'\n",
        "    }\n",
        "\n",
        "\n",
        "    def parse(self, response):\n",
        "      return\n",
        "\n",
        "    def RatingToInt(self, strRating: str) -> int:\n",
        "            if strRating == 'One':\n",
        "                return 1\n",
        "            elif strRating == 'Two':\n",
        "                return 2\n",
        "            elif strRating == 'Three':\n",
        "                return 3\n",
        "            elif strRating == 'Four':\n",
        "                return 4\n",
        "            elif strRating == 'Five':\n",
        "                return 5\n",
        "            else:\n",
        "                return 0   # Valor padrão\n",
        "\n",
        "    def abobrinha(self, response):\n",
        "      return\n"
      ],
      "execution_count": null,
      "outputs": []
    },
    {
      "cell_type": "markdown",
      "source": [
        "Inicia o crawler"
      ],
      "metadata": {
        "id": "nRkLALCtPOHF"
      }
    },
    {
      "cell_type": "code",
      "metadata": {
        "id": "zyL6Y9jMwv4x",
        "outputId": "77d77a77-0302-43ac-f242-ee1f67ee7a53",
        "colab": {
          "base_uri": "https://localhost:8080/"
        }
      },
      "source": [
        "crawler = CrawlerRunner()\n",
        "crawler.crawl(SpiderBooksSpider)"
      ],
      "execution_count": null,
      "outputs": [
        {
          "output_type": "stream",
          "name": "stderr",
          "text": [
            "WARNING:twisted:/usr/local/lib/python3.8/dist-packages/scrapy/utils/request.py:232: scrapy.exceptions.ScrapyDeprecationWarning: '2.6' is a deprecated value for the 'REQUEST_FINGERPRINTER_IMPLEMENTATION' setting.\n",
            "\n",
            "It is also the default value. In other words, it is normal to get this warning if you have not defined a value for the 'REQUEST_FINGERPRINTER_IMPLEMENTATION' setting. This is so for backward compatibility reasons, but it will change in a future version of Scrapy.\n",
            "\n",
            "See the documentation of the 'REQUEST_FINGERPRINTER_IMPLEMENTATION' setting for information on how to handle this deprecation.\n",
            "WARNING:twisted:/usr/local/lib/python3.8/dist-packages/scrapy/extensions/feedexport.py:315: scrapy.exceptions.ScrapyDeprecationWarning: The `FEED_URI` and `FEED_FORMAT` settings have been deprecated in favor of the `FEEDS` setting. Please see the `FEEDS` setting docs for more details\n"
          ]
        },
        {
          "output_type": "execute_result",
          "data": {
            "text/plain": [
              "<Deferred at 0x7f9e509e32e0>"
            ]
          },
          "metadata": {},
          "execution_count": 4
        }
      ]
    }
  ]
}